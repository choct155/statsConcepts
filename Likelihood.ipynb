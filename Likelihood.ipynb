{
 "cells": [
  {
   "cell_type": "markdown",
   "metadata": {},
   "source": [
    "# Likelihood\n",
    "\n",
    "If one were to start with a set of data, say household incomes in a given Census tract, it would be a relatively straightforward exercise to estimate the average household income in the tract (*assuming a random sample*). The sample mean is an unbiased estimator of the population mean, so just add all of the observed incomes up and divide by sample size.\n",
    "\n",
    "Another way that one my proceed is to assert the population mean and see how well the observed data fit with that presumed structure. This idea of assigning a probability to how well a new observation fits into a presumed distribution is called the likelihood. Formally, it is represented as follows:\n",
    "\n",
    "$$L(\\theta | x) = P(X = x|\\theta)$$\n",
    "\n",
    "That is, the likelihood that we have chosen the correct value of $\\theta$ given the data is revealed by the extent to which the data fit the value of $\\theta$ we have chosen."
   ]
  },
  {
   "cell_type": "code",
   "execution_count": 1,
   "metadata": {},
   "outputs": [],
   "source": [
    "import numpy as np\n",
    "import bqplot as bq\n",
    "import ipywidgets as widgets\n",
    "from Likelihood import Gaussian"
   ]
  },
  {
   "cell_type": "code",
   "execution_count": 2,
   "metadata": {},
   "outputs": [
    {
     "data": {
      "text/plain": [
       "(5.502688139350005e-67, 4.534433862849216e-96)"
      ]
     },
     "execution_count": 2,
     "metadata": {},
     "output_type": "execute_result"
    }
   ],
   "source": []
  },
  {
   "cell_type": "code",
   "execution_count": 3,
   "metadata": {},
   "outputs": [
    {
     "data": {
      "text/plain": [
       "(1.2135336639119895e+29, 8.240397689309788e-30)"
      ]
     },
     "execution_count": 3,
     "metadata": {},
     "output_type": "execute_result"
    }
   ],
   "source": [
    "\n",
    "g1.likelihoodRatio(test, g2, False), g2.likelihoodRatio(test, g1, False)"
   ]
  },
  {
   "cell_type": "code",
   "execution_count": null,
   "metadata": {},
   "outputs": [],
   "source": []
  }
 ],
 "metadata": {
  "kernelspec": {
   "display_name": "Python 3",
   "language": "python",
   "name": "python3"
  },
  "language_info": {
   "codemirror_mode": {
    "name": "ipython",
    "version": 3
   },
   "file_extension": ".py",
   "mimetype": "text/x-python",
   "name": "python",
   "nbconvert_exporter": "python",
   "pygments_lexer": "ipython3",
   "version": "3.8.0"
  }
 },
 "nbformat": 4,
 "nbformat_minor": 4
}
